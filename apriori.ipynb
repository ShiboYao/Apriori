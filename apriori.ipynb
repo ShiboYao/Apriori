{
 "cells": [
  {
   "cell_type": "markdown",
   "metadata": {},
   "source": [
    "# CS 634 Data Mining Midterm Project\n"
   ]
  },
  {
   "cell_type": "code",
   "execution_count": 1,
   "metadata": {},
   "outputs": [],
   "source": [
    "import numpy as np\n",
    "import pandas as pd"
   ]
  },
  {
   "cell_type": "code",
   "execution_count": 2,
   "metadata": {},
   "outputs": [],
   "source": [
    "def distinct(transaction):  ## input a list of set\n",
    "    lis = []\n",
    "    \n",
    "    for transac in transaction:\n",
    "        for item in transac:\n",
    "            if not item in lis:\n",
    "                lis.append(item)\n",
    "\n",
    "    return set(lis)  ## return a set of distinct items"
   ]
  },
  {
   "cell_type": "code",
   "execution_count": 3,
   "metadata": {},
   "outputs": [],
   "source": [
    "from itertools import combinations\n",
    "def generate(lis, n):  ## input a list of itemset and number of items in new sets\n",
    "    candidate = []\n",
    "    \n",
    "    for i in range(len(lis)):\n",
    "        for j in range(i+1, len(lis)):\n",
    "            union = lis[i].union(lis[j])\n",
    "            if len(union) == n and (not union in candidate):\n",
    "                candidate.append(union)\n",
    "                \n",
    "    return candidate  ## return a candidate list with candidate size n from prior list"
   ]
  },
  {
   "cell_type": "code",
   "execution_count": 4,
   "metadata": {},
   "outputs": [],
   "source": [
    "def support(transaction, itemset, minisupp):  ## input a list of set, list of set, num\n",
    "    freq = [0]*len(itemset)\n",
    "    for i in range(len(freq)):\n",
    "        for j in range(len(transaction)):\n",
    "            if itemset[i].issubset(transaction[j]):\n",
    "                freq[i] += 1\n",
    "                \n",
    "        freq[i] = freq[i]/len(transaction)\n",
    "        \n",
    "    df = {'itemset': itemset, 'freq': freq}\n",
    "    res = pd.DataFrame(df)\n",
    "    \n",
    "    return res[res.freq >= minisupp]  ## return a df of itemsets with larger than minisupp"
   ]
  },
  {
   "cell_type": "code",
   "execution_count": 5,
   "metadata": {},
   "outputs": [],
   "source": [
    "def apriori(transaction, minisupp):  ## input a list of set and a value\n",
    "    lis = list(distinct(transaction))\n",
    "    lis = list(set([i]) for i in lis)\n",
    "    candidate = support(list(transaction), lis, minisupp)\n",
    "    result = pd.DataFrame()\n",
    "\n",
    "    k = 2\n",
    "    while (candidate.empty == False):\n",
    "        lis = generate(list(candidate.itemset), k)\n",
    "        candidate = support(list(transaction), list(lis), minisupp)\n",
    "        result = result.append(candidate)\n",
    "        k += 1\n",
    "\n",
    "    return result  ## return a df of frequent set with support\n"
   ]
  },
  {
   "cell_type": "code",
   "execution_count": 6,
   "metadata": {},
   "outputs": [],
   "source": [
    "import itertools\n",
    "def association(freqset):  ## input the requent set df\n",
    "    d = {'known':[], 'inference':[]}\n",
    "    rule = pd.DataFrame(d)\n",
    "    freq = list(freqset.itemset)\n",
    "    \n",
    "    for i in range(len(freq)):\n",
    "        if len(freq[i])>1:\n",
    "            templis = freq[i]\n",
    "        for m in range(1, len(templis)):\n",
    "            known = map(set, itertools.combinations(templis, m))\n",
    "            known = list(known)\n",
    "            for j in range(len(known)):\n",
    "                inference = templis - known[j]\n",
    "                d = [inference, known[j]]\n",
    "            \n",
    "                rule.loc[len(rule)]=d\n",
    "            \n",
    "    return rule  ## return the association rules\n",
    "            "
   ]
  },
  {
   "cell_type": "code",
   "execution_count": 7,
   "metadata": {},
   "outputs": [],
   "source": [
    "def frequency(itemset, transaction):  ## input itemset or item and list of set for transaction\n",
    "    count = 0\n",
    "    for i in range(len(transaction)):\n",
    "        if itemset.issubset(transaction[i]):\n",
    "            count += 1\n",
    "       \n",
    "    return count  ## return the frequency for a single itemset or item"
   ]
  },
  {
   "cell_type": "code",
   "execution_count": 8,
   "metadata": {},
   "outputs": [],
   "source": [
    "def confidence(rule, transaction, miniconf):  ## input df association rule, list of set for transaction and a val\n",
    "    conf = [0]*len(rule)\n",
    "    inference = list(rule.inference)\n",
    "    known = list(rule.known)\n",
    "    \n",
    "    for i in range(len(rule)):\n",
    "        tempset = inference[i].union(known[i])\n",
    "        setfreq = frequency(tempset, transaction)\n",
    "        knownfreq = frequency(known[i], transaction)\n",
    "        \n",
    "        conf[i] = setfreq/knownfreq\n",
    "        \n",
    "    rule['confidence'] = conf\n",
    "    \n",
    "    return rule[rule.confidence>=miniconf]  ## return association rules with confidence"
   ]
  },
  {
   "cell_type": "code",
   "execution_count": 14,
   "metadata": {},
   "outputs": [
    {
     "name": "stderr",
     "output_type": "stream",
     "text": [
      "/home/shiboyao/anaconda3/lib/python3.6/site-packages/ipykernel_launcher.py:5: SettingWithCopyWarning: \n",
      "A value is trying to be set on a copy of a slice from a DataFrame\n",
      "\n",
      "See the caveats in the documentation: http://pandas.pydata.org/pandas-docs/stable/indexing.html#indexing-view-versus-copy\n",
      "  \"\"\"\n",
      "/home/shiboyao/anaconda3/lib/python3.6/site-packages/ipykernel_launcher.py:6: SettingWithCopyWarning: \n",
      "A value is trying to be set on a copy of a slice from a DataFrame\n",
      "\n",
      "See the caveats in the documentation: http://pandas.pydata.org/pandas-docs/stable/indexing.html#indexing-view-versus-copy\n",
      "  \n"
     ]
    },
    {
     "data": {
      "text/html": [
       "<div>\n",
       "<style scoped>\n",
       "    .dataframe tbody tr th:only-of-type {\n",
       "        vertical-align: middle;\n",
       "    }\n",
       "\n",
       "    .dataframe tbody tr th {\n",
       "        vertical-align: top;\n",
       "    }\n",
       "\n",
       "    .dataframe thead th {\n",
       "        text-align: right;\n",
       "    }\n",
       "</style>\n",
       "<table border=\"1\" class=\"dataframe\">\n",
       "  <thead>\n",
       "    <tr style=\"text-align: right;\">\n",
       "      <th></th>\n",
       "      <th>transaction</th>\n",
       "      <th>itemset</th>\n",
       "    </tr>\n",
       "  </thead>\n",
       "  <tbody>\n",
       "    <tr>\n",
       "      <th>0</th>\n",
       "      <td>101</td>\n",
       "      <td>{keyboard, folder, pad, mouse, laptop, wire}</td>\n",
       "    </tr>\n",
       "    <tr>\n",
       "      <th>1</th>\n",
       "      <td>102</td>\n",
       "      <td>{mouse, pad, keyboard, monitor}</td>\n",
       "    </tr>\n",
       "    <tr>\n",
       "      <th>2</th>\n",
       "      <td>103</td>\n",
       "      <td>{pad, laptop, folder, case}</td>\n",
       "    </tr>\n",
       "    <tr>\n",
       "      <th>3</th>\n",
       "      <td>104</td>\n",
       "      <td>{monitor, keyboard, usb, book, mouse, wire}</td>\n",
       "    </tr>\n",
       "    <tr>\n",
       "      <th>4</th>\n",
       "      <td>105</td>\n",
       "      <td>{wire, monitor, usb, keyboard}</td>\n",
       "    </tr>\n",
       "    <tr>\n",
       "      <th>5</th>\n",
       "      <td>106</td>\n",
       "      <td>{folder, monitor, keyboard, pad, usb, book, ca...</td>\n",
       "    </tr>\n",
       "    <tr>\n",
       "      <th>6</th>\n",
       "      <td>107</td>\n",
       "      <td>{wire, laptop, monitor}</td>\n",
       "    </tr>\n",
       "    <tr>\n",
       "      <th>7</th>\n",
       "      <td>108</td>\n",
       "      <td>{laptop, case}</td>\n",
       "    </tr>\n",
       "    <tr>\n",
       "      <th>8</th>\n",
       "      <td>109</td>\n",
       "      <td>{folder, keyboard, book, case, mouse, laptop}</td>\n",
       "    </tr>\n",
       "    <tr>\n",
       "      <th>9</th>\n",
       "      <td>110</td>\n",
       "      <td>{mouse, pad, wire}</td>\n",
       "    </tr>\n",
       "    <tr>\n",
       "      <th>10</th>\n",
       "      <td>111</td>\n",
       "      <td>{monitor, book, wire}</td>\n",
       "    </tr>\n",
       "    <tr>\n",
       "      <th>11</th>\n",
       "      <td>112</td>\n",
       "      <td>{laptop, keyboard, usb, case}</td>\n",
       "    </tr>\n",
       "    <tr>\n",
       "      <th>12</th>\n",
       "      <td>113</td>\n",
       "      <td>{mouse, pad, usb}</td>\n",
       "    </tr>\n",
       "    <tr>\n",
       "      <th>13</th>\n",
       "      <td>114</td>\n",
       "      <td>{mouse, pad, keyboard, usb}</td>\n",
       "    </tr>\n",
       "    <tr>\n",
       "      <th>14</th>\n",
       "      <td>115</td>\n",
       "      <td>{wire, monitor, usb}</td>\n",
       "    </tr>\n",
       "    <tr>\n",
       "      <th>15</th>\n",
       "      <td>116</td>\n",
       "      <td>{monitor, keyboard, pad, usb, mouse, laptop, w...</td>\n",
       "    </tr>\n",
       "    <tr>\n",
       "      <th>16</th>\n",
       "      <td>117</td>\n",
       "      <td>{book, laptop, case}</td>\n",
       "    </tr>\n",
       "    <tr>\n",
       "      <th>17</th>\n",
       "      <td>118</td>\n",
       "      <td>{mouse, keyboard, folder}</td>\n",
       "    </tr>\n",
       "    <tr>\n",
       "      <th>18</th>\n",
       "      <td>119</td>\n",
       "      <td>{mouse, pad, keyboard, case}</td>\n",
       "    </tr>\n",
       "    <tr>\n",
       "      <th>19</th>\n",
       "      <td>120</td>\n",
       "      <td>{keyboard, folder, book, case, mouse, laptop}</td>\n",
       "    </tr>\n",
       "  </tbody>\n",
       "</table>\n",
       "</div>"
      ],
      "text/plain": [
       "    transaction                                            itemset\n",
       "0           101       {keyboard, folder, pad, mouse, laptop, wire}\n",
       "1           102                    {mouse, pad, keyboard, monitor}\n",
       "2           103                        {pad, laptop, folder, case}\n",
       "3           104        {monitor, keyboard, usb, book, mouse, wire}\n",
       "4           105                     {wire, monitor, usb, keyboard}\n",
       "5           106  {folder, monitor, keyboard, pad, usb, book, ca...\n",
       "6           107                            {wire, laptop, monitor}\n",
       "7           108                                     {laptop, case}\n",
       "8           109      {folder, keyboard, book, case, mouse, laptop}\n",
       "9           110                                 {mouse, pad, wire}\n",
       "10          111                              {monitor, book, wire}\n",
       "11          112                      {laptop, keyboard, usb, case}\n",
       "12          113                                  {mouse, pad, usb}\n",
       "13          114                        {mouse, pad, keyboard, usb}\n",
       "14          115                               {wire, monitor, usb}\n",
       "15          116  {monitor, keyboard, pad, usb, mouse, laptop, w...\n",
       "16          117                               {book, laptop, case}\n",
       "17          118                          {mouse, keyboard, folder}\n",
       "18          119                       {mouse, pad, keyboard, case}\n",
       "19          120      {keyboard, folder, book, case, mouse, laptop}"
      ]
     },
     "execution_count": 14,
     "metadata": {},
     "output_type": "execute_result"
    }
   ],
   "source": [
    "data = pd.read_csv('record1.txt', sep=' ', header=None, \n",
    "                   names = ('transaction', 'itemset'))\n",
    "\n",
    "for i in range(len(data.itemset)):  ## data preprocessing \n",
    "    data.itemset[i] = data.itemset[i].split(',')  ## split items by commas\n",
    "    data.itemset[i] = set(data.itemset[i])  ## convert list to list of set\n",
    "\n",
    "data"
   ]
  },
  {
   "cell_type": "code",
   "execution_count": 15,
   "metadata": {},
   "outputs": [
    {
     "name": "stdout",
     "output_type": "stream",
     "text": [
      "Enter minimum support value:\n",
      " 0.5\n",
      "Enter minimum confidence value:\n",
      "0.5\n"
     ]
    }
   ],
   "source": [
    "minisupp = float(input('Enter minimum support value:\\n '))\n",
    "miniconf = float(input('Enter minimum confidence value:\\n'))\n"
   ]
  },
  {
   "cell_type": "code",
   "execution_count": 16,
   "metadata": {},
   "outputs": [
    {
     "data": {
      "text/html": [
       "<div>\n",
       "<style scoped>\n",
       "    .dataframe tbody tr th:only-of-type {\n",
       "        vertical-align: middle;\n",
       "    }\n",
       "\n",
       "    .dataframe tbody tr th {\n",
       "        vertical-align: top;\n",
       "    }\n",
       "\n",
       "    .dataframe thead th {\n",
       "        text-align: right;\n",
       "    }\n",
       "</style>\n",
       "<table border=\"1\" class=\"dataframe\">\n",
       "  <thead>\n",
       "    <tr style=\"text-align: right;\">\n",
       "      <th></th>\n",
       "      <th>itemset</th>\n",
       "      <th>freq</th>\n",
       "    </tr>\n",
       "  </thead>\n",
       "  <tbody>\n",
       "    <tr>\n",
       "      <th>0</th>\n",
       "      <td>{mouse, keyboard}</td>\n",
       "      <td>0.5</td>\n",
       "    </tr>\n",
       "  </tbody>\n",
       "</table>\n",
       "</div>"
      ],
      "text/plain": [
       "             itemset  freq\n",
       "0  {mouse, keyboard}   0.5"
      ]
     },
     "execution_count": 16,
     "metadata": {},
     "output_type": "execute_result"
    }
   ],
   "source": [
    "freqset = apriori(data.itemset, minisupp)\n",
    "freqset"
   ]
  },
  {
   "cell_type": "code",
   "execution_count": 17,
   "metadata": {},
   "outputs": [
    {
     "name": "stdout",
     "output_type": "stream",
     "text": [
      "        known   inference\n",
      "0  {keyboard}     {mouse}\n",
      "1     {mouse}  {keyboard}\n"
     ]
    }
   ],
   "source": [
    "rule = association(freqset)\n",
    "print(rule)"
   ]
  },
  {
   "cell_type": "code",
   "execution_count": 18,
   "metadata": {},
   "outputs": [
    {
     "data": {
      "text/html": [
       "<div>\n",
       "<style scoped>\n",
       "    .dataframe tbody tr th:only-of-type {\n",
       "        vertical-align: middle;\n",
       "    }\n",
       "\n",
       "    .dataframe tbody tr th {\n",
       "        vertical-align: top;\n",
       "    }\n",
       "\n",
       "    .dataframe thead th {\n",
       "        text-align: right;\n",
       "    }\n",
       "</style>\n",
       "<table border=\"1\" class=\"dataframe\">\n",
       "  <thead>\n",
       "    <tr style=\"text-align: right;\">\n",
       "      <th></th>\n",
       "      <th>known</th>\n",
       "      <th>inference</th>\n",
       "      <th>confidence</th>\n",
       "    </tr>\n",
       "  </thead>\n",
       "  <tbody>\n",
       "    <tr>\n",
       "      <th>0</th>\n",
       "      <td>{keyboard}</td>\n",
       "      <td>{mouse}</td>\n",
       "      <td>0.833333</td>\n",
       "    </tr>\n",
       "    <tr>\n",
       "      <th>1</th>\n",
       "      <td>{mouse}</td>\n",
       "      <td>{keyboard}</td>\n",
       "      <td>0.833333</td>\n",
       "    </tr>\n",
       "  </tbody>\n",
       "</table>\n",
       "</div>"
      ],
      "text/plain": [
       "        known   inference  confidence\n",
       "0  {keyboard}     {mouse}    0.833333\n",
       "1     {mouse}  {keyboard}    0.833333"
      ]
     },
     "execution_count": 18,
     "metadata": {},
     "output_type": "execute_result"
    }
   ],
   "source": [
    "confidence(rule, data.itemset, miniconf)"
   ]
  },
  {
   "cell_type": "code",
   "execution_count": null,
   "metadata": {},
   "outputs": [],
   "source": []
  },
  {
   "cell_type": "code",
   "execution_count": null,
   "metadata": {},
   "outputs": [],
   "source": []
  }
 ],
 "metadata": {
  "kernelspec": {
   "display_name": "Python 3",
   "language": "python",
   "name": "python3"
  },
  "language_info": {
   "codemirror_mode": {
    "name": "ipython",
    "version": 3
   },
   "file_extension": ".py",
   "mimetype": "text/x-python",
   "name": "python",
   "nbconvert_exporter": "python",
   "pygments_lexer": "ipython3",
   "version": "3.6.5"
  }
 },
 "nbformat": 4,
 "nbformat_minor": 2
}
